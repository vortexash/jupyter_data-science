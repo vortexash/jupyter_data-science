{
 "cells": [
  {
   "cell_type": "markdown",
   "metadata": {
    "collapsed": true
   },
   "source": [
    "#### 1: List the causes of death and percentile in Ohio state in the year 2012"
   ]
  },
  {
   "cell_type": "code",
   "execution_count": 1,
   "metadata": {},
   "outputs": [],
   "source": [
    "#import required libraries\n",
    "import matplotlib.pyplot as plt "
   ]
  },
  {
   "cell_type": "code",
   "execution_count": 2,
   "metadata": {},
   "outputs": [],
   "source": [
    "# View the plot \n",
    "%matplotlib inline"
   ]
  },
  {
   "cell_type": "code",
   "execution_count": 3,
   "metadata": {},
   "outputs": [],
   "source": [
    "#cause of deaths\n",
    "cause= 'Chronic Disease',' Unintetional Injuries',' Alzheimers',' Infuenza and Pneumonia',' Sepsis','Others'\n",
    "#percentile\n",
    "percentile=[62, 5, 4, 2, 1 , 26 ]"
   ]
  },
  {
   "cell_type": "markdown",
   "metadata": {},
   "source": [
    "#### 2: Draw a pie chart using the two data points"
   ]
  },
  {
   "cell_type": "code",
   "execution_count": 5,
   "metadata": {},
   "outputs": [
    {
     "data": {
      "text/plain": [
       "<Figure size 720x720 with 0 Axes>"
      ]
     },
     "execution_count": 5,
     "metadata": {},
     "output_type": "execute_result"
    },
    {
     "data": {
      "text/plain": [
       "<Figure size 720x720 with 0 Axes>"
      ]
     },
     "metadata": {},
     "output_type": "display_data"
    }
   ],
   "source": [
    "#set the pie chart plot properties\n",
    "plt.figure(figsize=(10,10))"
   ]
  },
  {
   "cell_type": "code",
   "execution_count": 2,
   "metadata": {
    "scrolled": false
   },
   "outputs": [],
   "source": [
    "#set figure size\n",
    "explode =(0.05,0,0,0,0,0)\n",
    "plt.pie(percentile,labels=cause,explode =explode,autopct='%1.1f%%',startangle=70)"
   ]
  },
  {
   "cell_type": "code",
   "execution_count": 6,
   "metadata": {},
   "outputs": [],
   "source": [
    "#explode the largest pie in the data set\n",
    "explode =(0.05,0,0,0,0,0)"
   ]
  },
  {
   "cell_type": "code",
   "execution_count": 8,
   "metadata": {},
   "outputs": [
    {
     "data": {
      "text/plain": [
       "([<matplotlib.patches.Wedge at 0x11a33d1d0>,\n",
       "  <matplotlib.patches.Wedge at 0x11a33d908>,\n",
       "  <matplotlib.patches.Wedge at 0x11a34a0b8>,\n",
       "  <matplotlib.patches.Wedge at 0x11a34a860>,\n",
       "  <matplotlib.patches.Wedge at 0x11a352048>,\n",
       "  <matplotlib.patches.Wedge at 0x11a3527f0>],\n",
       " [Text(-1.14955,-0.0321099,'Chronic Disease'),\n",
       "  Text(0.586164,-0.930812,' Unintetional Injuries'),\n",
       "  Text(0.822578,-0.730319,' Alzheimers'),\n",
       "  Text(0.944856,-0.563247,' Infuenza and Pneumonia'),\n",
       "  Text(0.993669,-0.471829,' Sepsis'),\n",
       "  Text(1.01105,0.433336,'Others')],\n",
       " [Text(-0.649747,-0.0181491,'62.0%'),\n",
       "  Text(0.319726,-0.507716,'5.0%'),\n",
       "  Text(0.448679,-0.398356,'4.0%'),\n",
       "  Text(0.515376,-0.307226,'2.0%'),\n",
       "  Text(0.542001,-0.257361,'1.0%'),\n",
       "  Text(0.551481,0.236365,'26.0%')])"
      ]
     },
     "execution_count": 8,
     "metadata": {},
     "output_type": "execute_result"
    },
    {
     "data": {
      "image/png": "[encoded data removed]",
      "text/plain": [
       "<Figure size 432x288 with 1 Axes>"
      ]
     },
     "metadata": {},
     "output_type": "display_data"
    }
   ],
   "source": [
    "#set pie chart properties\n",
    "plt.pie(percentile,labels=cause,explode =explode,autopct='%1.1f%%',startangle=70)"
   ]
  },
  {
   "cell_type": "code",
   "execution_count": 9,
   "metadata": {},
   "outputs": [
    {
     "data": {
      "text/plain": [
       "(-0.05500000000000001,\n",
       " 0.05500000000000001,\n",
       " -0.05500000000000001,\n",
       " 0.05500000000000001)"
      ]
     },
     "execution_count": 9,
     "metadata": {},
     "output_type": "execute_result"
    },
    {
     "data": {
      "image/png": "[encoded data removed]",
      "text/plain": [
       "<Figure size 432x288 with 1 Axes>"
      ]
     },
     "metadata": {
      "needs_background": "light"
     },
     "output_type": "display_data"
    }
   ],
   "source": [
    "#set axis equal to draw pie as circle\n",
    "plt.axis('equal')"
   ]
  },
  {
   "cell_type": "code",
   "execution_count": null,
   "metadata": {
    "collapsed": true
   },
   "outputs": [],
   "source": [
    "#set title of the pie chart\n",
    "plt.title('Ohio state 2012:Leading cause of death')"
   ]
  },
  {
   "cell_type": "code",
   "execution_count": 11,
   "metadata": {},
   "outputs": [],
   "source": [
    "#show the plot (pie chart)\n",
    "plt.show()"
   ]
  },
  {
   "cell_type": "code",
   "execution_count": null,
   "metadata": {},
   "outputs": [],
   "source": []
  },
  {
   "cell_type": "code",
   "execution_count": null,
   "metadata": {},
   "outputs": [],
   "source": []
  }
 ],
 "metadata": {
  "kernelspec": {
   "display_name": "Python 3",
   "language": "python",
   "name": "python3"
  },
  "language_info": {
   "codemirror_mode": {
    "name": "ipython",
    "version": 3
   },
   "file_extension": ".py",
   "mimetype": "text/x-python",
   "name": "python",
   "nbconvert_exporter": "python",
   "pygments_lexer": "ipython3",
   "version": "3.7.0"
  }
 },
 "nbformat": 4,
 "nbformat_minor": 1
}
